{
 "cells": [
  {
   "cell_type": "code",
   "execution_count": 1,
   "id": "9bf6e4b2-2ef2-4752-a45f-5aabfdd57fbb",
   "metadata": {},
   "outputs": [
    {
     "name": "stdout",
     "output_type": "stream",
     "text": [
      "Overwriting __init__.py\n"
     ]
    }
   ],
   "source": [
    "%%writefile __init__.py\n",
    "from.core import format_name,format_phone,format_currency,number_to_words, slugify"
   ]
  },
  {
   "cell_type": "code",
   "execution_count": 4,
   "id": "8dc7a736-07bd-4dfa-9796-59d019e75352",
   "metadata": {},
   "outputs": [
    {
     "name": "stdout",
     "output_type": "stream",
     "text": [
      "Overwriting core.py\n"
     ]
    }
   ],
   "source": [
    "%%writefile core.py\n",
    "import re               # re meaning regular expression we use search,remove,replace\n",
    "import inflect             #1.convert numbers to words,2.make words plural or singular,3.handle \"a\"/\"an\" automatically,4.\n",
    "def format_name(name):\n",
    "    return ' '.join([w.capitalize() for w in name.strip().split()])\n",
    "def format_phone(phone):\n",
    "    digits=re.sub(r'\\D+', '',phone)\n",
    "    return f\"+{digits[:2]} {digits[2:7]} {digits[7:]}\"\n",
    "def format_currency(amount,symbol='$'):                    #convert num to currency format\n",
    "    return f\"{symbol}{amount:,.2f}\"\n",
    "def number_to_words(n):\n",
    "    p=inflect.engine()                                    # convert numbers to text(e.g 123-->one hundred twenty three\")\n",
    "    return p.number_to_words(n).replace(',','')\n",
    "def slugify(text):\n",
    "    return re.sub(r'[^a-z0-9]+','-', text.lower()).strip('-') #slugify means converts text to URl-safe slugs e.g \"My Post!\"-->\"my-post\"\n"
   ]
  },
  {
   "cell_type": "code",
   "execution_count": 3,
   "id": "780eb93b-d53f-4f97-a946-a4c1b5fad2ea",
   "metadata": {},
   "outputs": [
    {
     "data": {
      "text/plain": [
       "'C:\\\\Users\\\\palle\\\\smartformatter\\\\smartformatter'"
      ]
     },
     "execution_count": 3,
     "metadata": {},
     "output_type": "execute_result"
    }
   ],
   "source": [
    "import os\n",
    "os.getcwd()   # current working directory"
   ]
  },
  {
   "cell_type": "code",
   "execution_count": null,
   "id": "1407d101-96f3-4580-ad44-827d005c5681",
   "metadata": {},
   "outputs": [],
   "source": []
  },
  {
   "cell_type": "code",
   "execution_count": null,
   "id": "f1d0181c-6c2b-475f-be8d-383ba56a34f3",
   "metadata": {},
   "outputs": [],
   "source": []
  },
  {
   "cell_type": "code",
   "execution_count": null,
   "id": "0fa22a6d-b4c3-4b58-a2c5-8705a4a20146",
   "metadata": {},
   "outputs": [],
   "source": []
  },
  {
   "cell_type": "code",
   "execution_count": null,
   "id": "535d0f45-b10f-44ba-95c1-a1a89221c4c7",
   "metadata": {},
   "outputs": [],
   "source": []
  }
 ],
 "metadata": {
  "kernelspec": {
   "display_name": "Python [conda env:base] *",
   "language": "python",
   "name": "conda-base-py"
  },
  "language_info": {
   "codemirror_mode": {
    "name": "ipython",
    "version": 3
   },
   "file_extension": ".py",
   "mimetype": "text/x-python",
   "name": "python",
   "nbconvert_exporter": "python",
   "pygments_lexer": "ipython3",
   "version": "3.12.7"
  }
 },
 "nbformat": 4,
 "nbformat_minor": 5
}
