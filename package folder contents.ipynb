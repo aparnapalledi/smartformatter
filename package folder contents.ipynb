{
 "cells": [
  {
   "cell_type": "code",
   "execution_count": 1,
   "id": "6f8a177b-cc38-460c-990f-c1143e14c526",
   "metadata": {},
   "outputs": [],
   "source": [
    "!mkdir smartformatter"
   ]
  },
  {
   "cell_type": "code",
   "execution_count": 1,
   "id": "798e9c8c-d8e6-4322-961c-db241cfa8f0d",
   "metadata": {},
   "outputs": [
    {
     "name": "stdout",
     "output_type": "stream",
     "text": [
      "Overwriting setup.py\n"
     ]
    }
   ],
   "source": [
    "%%writefile setup.py\n",
    "\n",
    "from setuptools import setup,find_packages\n",
    "setup(\n",
    "    name='smartformatter',\n",
    "    version='0.1',\n",
    "    packages=find_packages(),\n",
    "    install_requires=['inflect'],\n",
    "    author='aparna',\n",
    "    description='utility functions for smart formatting of names,phones,numbers.',)"
   ]
  },
  {
   "cell_type": "code",
   "execution_count": null,
   "id": "72b12f6f-c6fa-4ad0-8412-1463478d7a15",
   "metadata": {},
   "outputs": [],
   "source": []
  },
  {
   "cell_type": "code",
   "execution_count": null,
   "id": "875fda07-1b15-4de5-b5c4-755b26fc24c4",
   "metadata": {},
   "outputs": [],
   "source": []
  },
  {
   "cell_type": "code",
   "execution_count": null,
   "id": "815d916b-8db9-4bf5-b40b-15803c214c0c",
   "metadata": {},
   "outputs": [],
   "source": []
  },
  {
   "cell_type": "code",
   "execution_count": null,
   "id": "01b90b82-9ba7-4b96-8727-b14641313d69",
   "metadata": {},
   "outputs": [],
   "source": []
  }
 ],
 "metadata": {
  "kernelspec": {
   "display_name": "Python [conda env:base] *",
   "language": "python",
   "name": "conda-base-py"
  },
  "language_info": {
   "codemirror_mode": {
    "name": "ipython",
    "version": 3
   },
   "file_extension": ".py",
   "mimetype": "text/x-python",
   "name": "python",
   "nbconvert_exporter": "python",
   "pygments_lexer": "ipython3",
   "version": "3.12.7"
  }
 },
 "nbformat": 4,
 "nbformat_minor": 5
}
